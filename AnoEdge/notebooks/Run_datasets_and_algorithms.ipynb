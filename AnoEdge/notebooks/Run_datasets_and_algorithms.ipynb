{
  "cells": [
    {
      "cell_type": "markdown",
      "metadata": {
        "id": "k9kjFPcOU3Tm"
      },
      "source": [
        "# Preparation"
      ]
    },
    {
      "cell_type": "markdown",
      "metadata": {
        "id": "WHqQB7qqASp_"
      },
      "source": [
        "## Preparing data files"
      ]
    },
    {
      "cell_type": "code",
      "execution_count": null,
      "metadata": {
        "colab": {
          "base_uri": "https://localhost:8080/"
        },
        "id": "bJp88anQJbSg",
        "outputId": "0226cf62-51bd-4bd9-a8a7-45fdde32c9f6"
      },
      "outputs": [
        {
          "name": "stdout",
          "output_type": "stream",
          "text": [
            "Cloning into 'graph-edge-anomaly-detection'...\n",
            "remote: Enumerating objects: 99, done.\u001b[K\n",
            "remote: Counting objects: 100% (99/99), done.\u001b[K\n",
            "remote: Compressing objects: 100% (87/87), done.\u001b[K\n",
            "remote: Total 99 (delta 12), reused 77 (delta 7), pack-reused 0 (from 0)\u001b[K\n",
            "Receiving objects: 100% (99/99), 217.64 MiB | 21.63 MiB/s, done.\n",
            "Resolving deltas: 100% (12/12), done.\n"
          ]
        }
      ],
      "source": [
        "!rm -rf /content/graph-edge-anomaly-detection\n",
        "!git clone https://github.com/MKasaei00/graph-edge-anomaly-detection.git --depth 1"
      ]
    },
    {
      "cell_type": "code",
      "execution_count": null,
      "metadata": {
        "id": "9IG_vs9sJ1nk"
      },
      "outputs": [],
      "source": [
        "!sudo apt-get install unrar  # Install unrar"
      ]
    },
    {
      "cell_type": "code",
      "execution_count": null,
      "metadata": {
        "id": "76_egtLTKR6M"
      },
      "outputs": [],
      "source": [
        "!pwd"
      ]
    },
    {
      "cell_type": "code",
      "execution_count": null,
      "metadata": {
        "id": "ujoOTqtG-cKC"
      },
      "outputs": [],
      "source": [
        "!rm -rf /content/merged_data\n",
        "!mkdir /content/merged_data/\n",
        "!mkdir /content/merged_data/DARPA\n",
        "!mkdir /content/merged_data/ISCX\n",
        "!mkdir /content/merged_data/IDS2018\n",
        "!mkdir /content/merged_data/DDOS2019"
      ]
    },
    {
      "cell_type": "code",
      "execution_count": null,
      "metadata": {
        "id": "GR3EhU3J7hWj"
      },
      "outputs": [],
      "source": [
        "!unrar x /content/graph-edge-anomaly-detection/datasets/DARPA/meta.rar /content/merged_data/DARPA\n",
        "!unrar x /content/graph-edge-anomaly-detection/datasets/ISCX/meta.rar /content/merged_data/ISCX\n",
        "!unzip /content/graph-edge-anomaly-detection/datasets/IDS2018/merged_data.zip -d /content/merged_data/IDS2018/"
      ]
    },
    {
      "cell_type": "code",
      "execution_count": null,
      "metadata": {
        "colab": {
          "background_save": true
        },
        "id": "_SpZda1kD6gZ",
        "outputId": "c9a3636b-1145-4b0e-eec1-4f97a9b78bfa"
      },
      "outputs": [
        {
          "name": "stdout",
          "output_type": "stream",
          "text": [
            "\n",
            "UNRAR 6.11 beta 1 freeware      Copyright (c) 1993-2022 Alexander Roshal\n",
            "\n",
            "\n",
            "Extracting from /content/graph-edge-anomaly-detection/datasets/DDOS2019/merged_data.rar\n",
            "\n",
            "Extracting  /content/merged_data/DDOS2019/merged_data.csv                \b\b\b\b  7%\b\b\b\b 15%\b\b\b\b 23%\b\b\b\b 31%\b\b\b\b 39%\b\b\b\b 47%\b\b\b\b 55%\b\b\b\b 63%\b\b\b\b 71%\b\b\b\b 79%\b\b\b\b 87%\b\b\b\b 95%\b\b\b\b100%\b\b\b\b\b  OK \n",
            "All OK\n"
          ]
        }
      ],
      "source": [
        "!unrar x /content/graph-edge-anomaly-detection/datasets/DDOS2019/merged_data.rar /content/merged_data/DDOS2019/"
      ]
    },
    {
      "cell_type": "markdown",
      "metadata": {
        "id": "dd_icnoiAVjX"
      },
      "source": [
        "## Preparing data frames"
      ]
    },
    {
      "cell_type": "code",
      "execution_count": null,
      "metadata": {
        "id": "Gpz-52tCAlxV"
      },
      "outputs": [],
      "source": [
        "import pandas as pd"
      ]
    },
    {
      "cell_type": "code",
      "execution_count": null,
      "metadata": {
        "id": "qUSeGPPhAcBs"
      },
      "outputs": [],
      "source": [
        "DARPA_df = pd.read_csv('/content/merged_data/DARPA/merged_data.csv')\n",
        "DARPA_df"
      ]
    },
    {
      "cell_type": "code",
      "execution_count": null,
      "metadata": {
        "id": "PvfQ3oLpDYfV"
      },
      "outputs": [],
      "source": [
        "ISCX_df = pd.read_csv('/content/merged_data/ISCX/merged_data.csv')\n",
        "ISCX_df"
      ]
    },
    {
      "cell_type": "code",
      "execution_count": null,
      "metadata": {
        "id": "Y1yRvn1FDg7e"
      },
      "outputs": [],
      "source": [
        "IDS2018_df = pd.read_csv('/content/merged_data/IDS2018/merged_data.csv')\n",
        "IDS2018_df"
      ]
    },
    {
      "cell_type": "code",
      "execution_count": null,
      "metadata": {
        "id": "nX4TN9g6DmSs"
      },
      "outputs": [],
      "source": [
        "DDOS2019_df = pd.read_csv('/content/merged_data/DDOS2019/merged_data.csv')\n",
        "DDOS2019_df"
      ]
    },
    {
      "cell_type": "markdown",
      "metadata": {
        "id": "bnpaBGX0kYiO"
      },
      "source": [
        "## Run algorithm"
      ]
    },
    {
      "cell_type": "code",
      "source": [
        "# prompt: Change directory to /content/graph-edge-anomaly-detection/AnoEdge/code/\n",
        "%cd /content/graph-edge-anomaly-detection/AnoEdge/code/"
      ],
      "metadata": {
        "id": "ojVSdSP-mkRQ"
      },
      "execution_count": null,
      "outputs": []
    },
    {
      "cell_type": "code",
      "execution_count": null,
      "metadata": {
        "id": "HgXJ28kMkabu",
        "colab": {
          "base_uri": "https://localhost:8080/"
        },
        "outputId": "d3410afb-6836-4c61-8f71-f756ece16e87"
      },
      "outputs": [
        {
          "output_type": "stream",
          "name": "stdout",
          "text": [
            "Reading package lists... Done\n",
            "Building dependency tree... Done\n",
            "Reading state information... Done\n",
            "dos2unix is already the newest version (7.4.2-2).\n",
            "0 upgraded, 0 newly installed, 0 to remove and 35 not upgraded.\n",
            "Usage: dos2unix [options] [file ...] [-n infile outfile ...]\n",
            " --allow-chown         allow file ownership change\n",
            " -ascii                convert only line breaks (default)\n",
            " -iso                  conversion between DOS and ISO-8859-1 character set\n",
            "   -1252               use Windows code page 1252 (Western European)\n",
            "   -437                use DOS code page 437 (US) (default)\n",
            "   -850                use DOS code page 850 (Western European)\n",
            "   -860                use DOS code page 860 (Portuguese)\n",
            "   -863                use DOS code page 863 (French Canadian)\n",
            "   -865                use DOS code page 865 (Nordic)\n",
            " -7                    convert 8 bit characters to 7 bit space\n",
            " -b, --keep-bom        keep Byte Order Mark\n",
            " -c, --convmode        conversion mode\n",
            "   convmode            ascii, 7bit, iso, mac, default to ascii\n",
            " -f, --force           force conversion of binary files\n",
            " -h, --help            display this help text\n",
            " -i, --info[=FLAGS]    display file information\n",
            "   file ...            files to analyze\n",
            " -k, --keepdate        keep output file date\n",
            " -L, --license         display software license\n",
            " -l, --newline         add additional newline\n",
            " -m, --add-bom         add Byte Order Mark (default UTF-8)\n",
            " -n, --newfile         write to new file\n",
            "   infile              original file in new-file mode\n",
            "   outfile             output file in new-file mode\n",
            " --no-allow-chown      don't allow file ownership change (default)\n",
            " -o, --oldfile         write to old file (default)\n",
            "   file ...            files to convert in old-file mode\n",
            " -q, --quiet           quiet mode, suppress all warnings\n",
            " -r, --remove-bom      remove Byte Order Mark (default)\n",
            " -s, --safe            skip binary files (default)\n",
            " -u,  --keep-utf16     keep UTF-16 encoding\n",
            " -ul, --assume-utf16le assume that the input format is UTF-16LE\n",
            " -ub, --assume-utf16be assume that the input format is UTF-16BE\n",
            " -v,  --verbose        verbose operation\n",
            " -F, --follow-symlink  follow symbolic links and convert the targets\n",
            " -R, --replace-symlink replace symbolic links with converted files\n",
            "                         (original target files remain unchanged)\n",
            " -S, --skip-symlink    keep symbolic links and targets unchanged (default)\n",
            " -V, --version         display version number\n",
            "Usage: dos2unix [options] [file ...] [-n infile outfile ...]\n",
            " --allow-chown         allow file ownership change\n",
            " -ascii                convert only line breaks (default)\n",
            " -iso                  conversion between DOS and ISO-8859-1 character set\n",
            "   -1252               use Windows code page 1252 (Western European)\n",
            "   -437                use DOS code page 437 (US) (default)\n",
            "   -850                use DOS code page 850 (Western European)\n",
            "   -860                use DOS code page 860 (Portuguese)\n",
            "   -863                use DOS code page 863 (French Canadian)\n",
            "   -865                use DOS code page 865 (Nordic)\n",
            " -7                    convert 8 bit characters to 7 bit space\n",
            " -b, --keep-bom        keep Byte Order Mark\n",
            " -c, --convmode        conversion mode\n",
            "   convmode            ascii, 7bit, iso, mac, default to ascii\n",
            " -f, --force           force conversion of binary files\n",
            " -h, --help            display this help text\n",
            " -i, --info[=FLAGS]    display file information\n",
            "   file ...            files to analyze\n",
            " -k, --keepdate        keep output file date\n",
            " -L, --license         display software license\n",
            " -l, --newline         add additional newline\n",
            " -m, --add-bom         add Byte Order Mark (default UTF-8)\n",
            " -n, --newfile         write to new file\n",
            "   infile              original file in new-file mode\n",
            "   outfile             output file in new-file mode\n",
            " --no-allow-chown      don't allow file ownership change (default)\n",
            " -o, --oldfile         write to old file (default)\n",
            "   file ...            files to convert in old-file mode\n",
            " -q, --quiet           quiet mode, suppress all warnings\n",
            " -r, --remove-bom      remove Byte Order Mark (default)\n",
            " -s, --safe            skip binary files (default)\n",
            " -u,  --keep-utf16     keep UTF-16 encoding\n",
            " -ul, --assume-utf16le assume that the input format is UTF-16LE\n",
            " -ub, --assume-utf16be assume that the input format is UTF-16BE\n",
            " -v,  --verbose        verbose operation\n",
            " -F, --follow-symlink  follow symbolic links and convert the targets\n",
            " -R, --replace-symlink replace symbolic links with converted files\n",
            "                         (original target files remain unchanged)\n",
            " -S, --skip-symlink    keep symbolic links and targets unchanged (default)\n",
            " -V, --version         display version number\n"
          ]
        }
      ],
      "source": [
        "# prompt: fix line separator  to be  compatible with linux\n",
        "\n",
        "# fix line separator\n",
        "!apt-get install dos2unix\n",
        "!find /content/graph-edge-anomaly-detection/AnoEdge/code/demo.sh -type f -print0 | xargs -0 dos2unix --no-newline -k\n",
        "!find /content/graph-edge-anomaly-detection/AnoEdge/code/Makefile -type f -print0 | xargs -0 dos2unix --no-newline -k"
      ]
    },
    {
      "cell_type": "code",
      "source": [
        "# prompt: Run .sh file\n",
        "\n",
        "!chmod +x /content/graph-edge-anomaly-detection/AnoEdge/code/demo.sh"
      ],
      "metadata": {
        "id": "OMeGFTQgl7M-"
      },
      "execution_count": null,
      "outputs": []
    },
    {
      "cell_type": "code",
      "source": [
        "# prompt: replace ~/envs/local/bin/pip and ~/envs/local/bin/python with simple versions without env\n",
        "# in file demo.sh  mentioned above\n",
        "\n",
        "# Read the content of the file\n",
        "with open('/content/graph-edge-anomaly-detection/AnoEdge/code/demo.sh', 'r') as file:\n",
        "    file_content = file.read()\n",
        "\n",
        "# Replace the strings\n",
        "file_content = file_content.replace('~/envs/local/bin/pip', 'pip')\n",
        "file_content = file_content.replace('~/envs/local/bin/python', 'python')\n",
        "\n",
        "# Write the modified content back to the file\n",
        "with open('/content/graph-edge-anomaly-detection/AnoEdge/code/demo.sh', 'w') as file:\n",
        "    file.write(file_content)\n",
        "\n",
        "print(\"Replacement complete.\")\n"
      ],
      "metadata": {
        "colab": {
          "base_uri": "https://localhost:8080/"
        },
        "id": "lDQrL1bmnGje",
        "outputId": "44fc7fe3-e291-4824-c719-c2e8037d3436"
      },
      "execution_count": null,
      "outputs": [
        {
          "output_type": "stream",
          "name": "stdout",
          "text": [
            "Replacement complete.\n"
          ]
        }
      ]
    },
    {
      "cell_type": "code",
      "source": [
        "!/content/graph-edge-anomaly-detection/AnoEdge/code/demo.sh DARPA"
      ],
      "metadata": {
        "colab": {
          "base_uri": "https://localhost:8080/"
        },
        "id": "z_04moqpms3O",
        "outputId": "e76ff3d4-dc27-4d30-f488-468fe1477286"
      },
      "execution_count": null,
      "outputs": [
        {
          "output_type": "stream",
          "name": "stdout",
          "text": [
            "rm -rf main *.o\n",
            "g++ -Wall -g -O3 -std=c++17 -c anoedgeglobal.cpp\n",
            "g++ -Wall -g -O3 -std=c++17 -c hcms.cpp\n",
            "g++ -Wall -g -O3 -std=c++17 -c main.cpp\n",
            "g++ -Wall -g -O3 -std=c++17 -c utils.cpp\n",
            "g++ -o main anoedgeglobal.o hcms.o main.o utils.o\n",
            "Running AnoEdge-G\n",
            "Installing python dependencies\n",
            "\u001b[2K     \u001b[90m━━━━━━━━━━━━━━━━━━━━━━━━━━━━━━━━━━━━━━━━\u001b[0m \u001b[32m89.9/89.9 kB\u001b[0m \u001b[31m4.7 MB/s\u001b[0m eta \u001b[36m0:00:00\u001b[0m\n",
            "\u001b[2K     \u001b[90m━━━━━━━━━━━━━━━━━━━━━━━━━━━━━━━━━━━━━━━━\u001b[0m \u001b[32m61.0/61.0 kB\u001b[0m \u001b[31m4.0 MB/s\u001b[0m eta \u001b[36m0:00:00\u001b[0m\n",
            "\u001b[2K   \u001b[90m━━━━━━━━━━━━━━━━━━━━━━━━━━━━━━━━━━━━━━━━\u001b[0m \u001b[32m10.9/10.9 MB\u001b[0m \u001b[31m103.0 MB/s\u001b[0m eta \u001b[36m0:00:00\u001b[0m\n",
            "\u001b[2K   \u001b[90m━━━━━━━━━━━━━━━━━━━━━━━━━━━━━━━━━━━━━━━━\u001b[0m \u001b[32m13.1/13.1 MB\u001b[0m \u001b[31m105.5 MB/s\u001b[0m eta \u001b[36m0:00:00\u001b[0m\n",
            "\u001b[2K   \u001b[90m━━━━━━━━━━━━━━━━━━━━━━━━━━━━━━━━━━━━━━━━\u001b[0m \u001b[32m18.3/18.3 MB\u001b[0m \u001b[31m41.1 MB/s\u001b[0m eta \u001b[36m0:00:00\u001b[0m\n",
            "\u001b[?25h\u001b[31mERROR: pip's dependency resolver does not currently take into account all the packages that are installed. This behaviour is the source of the following dependency conflicts.\n",
            "google-colab 1.0.0 requires pandas==2.2.2, but you have pandas 2.2.3 which is incompatible.\n",
            "thinc 8.3.6 requires numpy<3.0.0,>=2.0.0, but you have numpy 1.26.4 which is incompatible.\u001b[0m\u001b[31m\n",
            "\u001b[0mRunning python metrics\n",
            "anoedge_g,DARPA\n",
            "AUC: 0.971\n",
            "Time: 58.6454s\n",
            "\n"
          ]
        }
      ]
    }
  ],
  "metadata": {
    "colab": {
      "collapsed_sections": [
        "dd_icnoiAVjX"
      ],
      "provenance": []
    },
    "kernelspec": {
      "display_name": "Python 3",
      "name": "python3"
    },
    "language_info": {
      "name": "python"
    }
  },
  "nbformat": 4,
  "nbformat_minor": 0
}