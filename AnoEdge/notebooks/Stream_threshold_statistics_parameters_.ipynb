{
  "nbformat": 4,
  "nbformat_minor": 0,
  "metadata": {
    "colab": {
      "provenance": []
    },
    "kernelspec": {
      "name": "python3",
      "display_name": "Python 3"
    },
    "language_info": {
      "name": "python"
    }
  },
  "cells": [
    {
      "cell_type": "markdown",
      "source": [
        "# Initial setup"
      ],
      "metadata": {
        "id": "VZqQt0ibg5AM"
      }
    },
    {
      "cell_type": "markdown",
      "source": [
        "## Init data frame"
      ],
      "metadata": {
        "id": "r_pLKaaOhO8V"
      }
    },
    {
      "cell_type": "code",
      "source": [
        "!rm -rf /content/graph-edge-anomaly-detection/"
      ],
      "metadata": {
        "id": "8uSa9XWpJW34"
      },
      "execution_count": 45,
      "outputs": []
    },
    {
      "cell_type": "code",
      "execution_count": 46,
      "metadata": {
        "colab": {
          "base_uri": "https://localhost:8080/"
        },
        "id": "ZSIg7fO9mPtV",
        "outputId": "6694d134-eb46-42be-af04-49198ee34b6b"
      },
      "outputs": [
        {
          "output_type": "stream",
          "name": "stdout",
          "text": [
            "Cloning into 'graph-edge-anomaly-detection'...\n",
            "remote: Enumerating objects: 278, done.\u001b[K\n",
            "remote: Counting objects: 100% (43/43), done.\u001b[K\n",
            "remote: Compressing objects: 100% (34/34), done.\u001b[K\n",
            "remote: Total 278 (delta 16), reused 28 (delta 9), pack-reused 235 (from 1)\u001b[K\n",
            "Receiving objects: 100% (278/278), 66.73 MiB | 19.33 MiB/s, done.\n",
            "Resolving deltas: 100% (133/133), done.\n",
            "Updating files: 100% (56/56), done.\n"
          ]
        }
      ],
      "source": [
        "!git clone https://github.com/MKasaei00/graph-edge-anomaly-detection.git"
      ]
    },
    {
      "cell_type": "code",
      "source": [
        "!cd /content/graph-edge-anomaly-detection/datasets/DARPA/"
      ],
      "metadata": {
        "id": "r2gXaKvImdqd"
      },
      "execution_count": 47,
      "outputs": []
    },
    {
      "cell_type": "code",
      "source": [
        "# prompt: unrar file named meta.rar\n",
        "\n",
        "!unrar x /content/graph-edge-anomaly-detection/datasets/DARPA/meta.rar /content/graph-edge-anomaly-detection/datasets/DARPA/\n",
        "!unrar x /content/graph-edge-anomaly-detection/datasets/ISCX/meta.rar /content/graph-edge-anomaly-detection/datasets/ISCX/\n"
      ],
      "metadata": {
        "colab": {
          "base_uri": "https://localhost:8080/"
        },
        "id": "0HkzuHkUm6gm",
        "outputId": "b41342c4-405b-4dae-ade8-a2a585e35204"
      },
      "execution_count": 48,
      "outputs": [
        {
          "output_type": "stream",
          "name": "stdout",
          "text": [
            "\n",
            "UNRAR 6.11 beta 1 freeware      Copyright (c) 1993-2022 Alexander Roshal\n",
            "\n",
            "\n",
            "Extracting from /content/graph-edge-anomaly-detection/datasets/DARPA/meta.rar\n",
            "\n",
            "Extracting  /content/graph-edge-anomaly-detection/datasets/DARPA/merged_data.csv     \b\b\b\b 21%\b\b\b\b 42%\b\b\b\b 63%\b\b\b\b 85%\b\b\b\b100%\b\b\b\b\b  OK \n",
            "All OK\n",
            "\n",
            "UNRAR 6.11 beta 1 freeware      Copyright (c) 1993-2022 Alexander Roshal\n",
            "\n",
            "\n",
            "Extracting from /content/graph-edge-anomaly-detection/datasets/ISCX/meta.rar\n",
            "\n",
            "Extracting  /content/graph-edge-anomaly-detection/datasets/ISCX/merged_data.csv     \b\b\b\b 72%\b\b\b\b100%\b\b\b\b\b  OK \n",
            "All OK\n"
          ]
        }
      ]
    },
    {
      "cell_type": "code",
      "source": [
        "# prompt: import panda numpy and any library you might need\n",
        "\n",
        "import pandas as pd\n",
        "import numpy as np\n",
        "from sklearn.metrics import f1_score"
      ],
      "metadata": {
        "id": "69buIH1InAKm"
      },
      "execution_count": 49,
      "outputs": []
    },
    {
      "cell_type": "code",
      "source": [
        "# prompt: create a df from csv file named mereged_data.csv\n",
        "\n",
        "df_darpa = pd.read_csv('/content/graph-edge-anomaly-detection/datasets/DARPA/merged_data.csv')\n",
        "print(df_darpa.head())"
      ],
      "metadata": {
        "id": "3vhNliidnKtd",
        "colab": {
          "base_uri": "https://localhost:8080/"
        },
        "outputId": "576a7c0f-4038-4ba5-d0ae-5cb686b74e4f"
      },
      "execution_count": 50,
      "outputs": [
        {
          "output_type": "stream",
          "name": "stdout",
          "text": [
            "   score  label  min  q1  median  q3  max  sum\n",
            "0    1.0      0    0   0       0   0    1    2\n",
            "1    2.0      0    0   0       0   0    2    4\n",
            "2    1.0      0    0   0       0   0    1    5\n",
            "3    2.0      0    0   0       0   0    2    7\n",
            "4    1.0      0    0   0       0   0    1    8\n"
          ]
        }
      ]
    },
    {
      "cell_type": "code",
      "source": [
        "# prompt: create a df from csv file named mereged_data.csv\n",
        "\n",
        "df_iscx = pd.read_csv('/content/graph-edge-anomaly-detection/datasets/ISCX/merged_data.csv')\n",
        "print(df_iscx.head())"
      ],
      "metadata": {
        "colab": {
          "base_uri": "https://localhost:8080/"
        },
        "id": "YTbCTf24vKUG",
        "outputId": "279edca3-c28c-4308-eb73-7e58848348df"
      },
      "execution_count": 51,
      "outputs": [
        {
          "output_type": "stream",
          "name": "stdout",
          "text": [
            "    score  label  min  q1  median  q3  max  sum\n",
            "0  1.0000      1    0   0       0   0    1    1\n",
            "1  1.0000      0    0   0       0   0    1    1\n",
            "2  1.0000      0    0   0       0   0    1    2\n",
            "3  1.2226      0    0   0       0   0    1    3\n",
            "4  1.5756      0    0   0       0   0    1    4\n"
          ]
        }
      ]
    },
    {
      "cell_type": "markdown",
      "source": [
        "## EMA : Exponential moving average"
      ],
      "metadata": {
        "id": "RjUds1TUj6gk"
      }
    },
    {
      "cell_type": "markdown",
      "source": [
        "Initial code that calculates metrics"
      ],
      "metadata": {
        "id": "KQt5s9aozIfi"
      }
    },
    {
      "cell_type": "code",
      "source": [
        "def detect_z_score_ema(df, alpha=0.05, threshold_z=3):\n",
        "    scores = df['score'].values\n",
        "    labels = df['label'].values\n",
        "    mu, var = 0, 1\n",
        "    preds = []\n",
        "\n",
        "    for x in scores:\n",
        "        z = (x - mu) / (np.sqrt(var) + 1e-6)\n",
        "        preds.append(int(z > threshold_z))\n",
        "        mu = alpha * x + (1 - alpha) * mu\n",
        "        var = alpha * (x - mu) ** 2 + (1 - alpha) * var\n",
        "\n",
        "    metrics = {\n",
        "        'Precision': precision_score(labels, preds),\n",
        "        'Recall': recall_score(labels, preds),\n",
        "        'F1': f1_score(labels, preds),\n",
        "        'AUC-ROC': roc_auc_score(labels, scores)\n",
        "    }\n",
        "    return metrics\n"
      ],
      "metadata": {
        "id": "0KOPqkXrzHuI"
      },
      "execution_count": 28,
      "outputs": []
    },
    {
      "cell_type": "markdown",
      "source": [
        "### DARPA : dataset"
      ],
      "metadata": {
        "id": "NV4voYXNDttG"
      }
    },
    {
      "cell_type": "markdown",
      "source": [
        "Now try on darpa dataset"
      ],
      "metadata": {
        "id": "0Ac581fwyeQJ"
      }
    },
    {
      "cell_type": "code",
      "source": [
        "detect_z_score_ema(df_darpa, alpha=0.05, threshold_z=3)"
      ],
      "metadata": {
        "colab": {
          "base_uri": "https://localhost:8080/"
        },
        "id": "XquCS00czaxA",
        "outputId": "b9a70f28-a2d4-4999-a6bc-b9374bf1b54a"
      },
      "execution_count": 29,
      "outputs": [
        {
          "output_type": "execute_result",
          "data": {
            "text/plain": [
              "{'Precision': 0.22693383038210624,\n",
              " 'Recall': 0.0007116738254185194,\n",
              " 'F1': 0.0014188979285765532,\n",
              " 'AUC-ROC': np.float64(0.9707388010169093)}"
            ]
          },
          "metadata": {},
          "execution_count": 29
        }
      ]
    },
    {
      "cell_type": "code",
      "source": [
        "detect_z_score_ema(df_darpa, alpha=0.01, threshold_z=3)"
      ],
      "metadata": {
        "colab": {
          "base_uri": "https://localhost:8080/"
        },
        "id": "aOgOlfFL00H4",
        "outputId": "42b122a3-02ab-46c7-b07b-145438cc0626"
      },
      "execution_count": 30,
      "outputs": [
        {
          "output_type": "execute_result",
          "data": {
            "text/plain": [
              "{'Precision': 0.2103499627699181,\n",
              " 'Recall': 0.00020641463622251717,\n",
              " 'F1': 0.00041242456371503287,\n",
              " 'AUC-ROC': np.float64(0.9707388010169093)}"
            ]
          },
          "metadata": {},
          "execution_count": 30
        }
      ]
    },
    {
      "cell_type": "code",
      "source": [
        "detect_z_score_ema(df_darpa, alpha=0.05, threshold_z=2)"
      ],
      "metadata": {
        "colab": {
          "base_uri": "https://localhost:8080/"
        },
        "id": "Tl-kHDhW3bwI",
        "outputId": "27e35d56-9f9d-4e42-a2f2-e3f1e46b8fc5"
      },
      "execution_count": 31,
      "outputs": [
        {
          "output_type": "execute_result",
          "data": {
            "text/plain": [
              "{'Precision': 0.16964648516863065,\n",
              " 'Recall': 0.00213538681189489,\n",
              " 'F1': 0.004217684473184511,\n",
              " 'AUC-ROC': np.float64(0.9707388010169093)}"
            ]
          },
          "metadata": {},
          "execution_count": 31
        }
      ]
    },
    {
      "cell_type": "code",
      "source": [
        "detect_z_score_ema(df_darpa, alpha=0.05, threshold_z=1.5)"
      ],
      "metadata": {
        "colab": {
          "base_uri": "https://localhost:8080/"
        },
        "id": "ODQTLf7N3pcT",
        "outputId": "5d242092-0022-420c-802a-873e73dfbc1c"
      },
      "execution_count": 32,
      "outputs": [
        {
          "output_type": "execute_result",
          "data": {
            "text/plain": [
              "{'Precision': 0.1684434374013335,\n",
              " 'Recall': 0.006626823161841131,\n",
              " 'F1': 0.012751964483750718,\n",
              " 'AUC-ROC': np.float64(0.9707388010169093)}"
            ]
          },
          "metadata": {},
          "execution_count": 32
        }
      ]
    },
    {
      "cell_type": "code",
      "source": [
        "detect_z_score_ema(df_darpa, alpha=0.05, threshold_z=1)"
      ],
      "metadata": {
        "colab": {
          "base_uri": "https://localhost:8080/"
        },
        "id": "1MslbRoo309x",
        "outputId": "f6d08b3d-3a7e-4e5e-a69b-e85e87753824"
      },
      "execution_count": 33,
      "outputs": [
        {
          "output_type": "execute_result",
          "data": {
            "text/plain": [
              "{'Precision': 0.8757280681666848,\n",
              " 'Recall': 0.8480441208544909,\n",
              " 'F1': 0.8616637910810321,\n",
              " 'AUC-ROC': np.float64(0.9707388010169093)}"
            ]
          },
          "metadata": {},
          "execution_count": 33
        }
      ]
    },
    {
      "cell_type": "code",
      "source": [
        "# prompt: generate linear values between 0.8 and 1.5 with distance of 0.01 and then plot scatter with x = threshold_z and y = F1\n",
        "# also print all the inner results too\n",
        "\n",
        "import pandas as pd\n",
        "import numpy as np\n",
        "from sklearn.metrics import f1_score, precision_score, recall_score, roc_auc_score\n",
        "import matplotlib.pyplot as plt\n",
        "\n",
        "# ... (Your existing code for data loading and detect_z_score_ema function)\n",
        "\n",
        "threshold_z_values = np.arange(0.8, 1.6, 0.1)\n",
        "f1_scores = []\n",
        "\n",
        "for threshold_z in threshold_z_values:\n",
        "    metrics = detect_z_score_ema(df_darpa, alpha=0.05, threshold_z=threshold_z)\n",
        "    f1_scores.append(metrics['F1'])\n",
        "    print(f\"Threshold Z: {threshold_z:.2f}, Metrics: {metrics}\")\n",
        "\n",
        "# Plotting\n",
        "plt.figure(figsize=(10, 6))\n",
        "plt.scatter(threshold_z_values, f1_scores)\n",
        "plt.xlabel(\"Threshold Z\")\n",
        "plt.ylabel(\"F1 Score\")\n",
        "plt.title(\"F1 Score vs. Threshold Z\")\n",
        "plt.grid(True)\n",
        "plt.show()\n"
      ],
      "metadata": {
        "colab": {
          "base_uri": "https://localhost:8080/",
          "height": 708
        },
        "id": "i7cRjTki4D8z",
        "outputId": "bd1ed4ee-c6c9-4e0b-997b-44c2e0f48f40"
      },
      "execution_count": 34,
      "outputs": [
        {
          "output_type": "stream",
          "name": "stdout",
          "text": [
            "Threshold Z: 0.80, Metrics: {'Precision': 0.8415337696168753, 'Recall': 0.8709901216896481, 'F1': 0.8560086129313534, 'AUC-ROC': np.float64(0.9707388010169093)}\n",
            "Threshold Z: 0.90, Metrics: {'Precision': 0.8585724624167508, 'Recall': 0.8594846064001689, 'F1': 0.8590282922725432, 'AUC-ROC': np.float64(0.9707388010169093)}\n",
            "Threshold Z: 1.00, Metrics: {'Precision': 0.8757280681666848, 'Recall': 0.8480441208544909, 'F1': 0.8616637910810321, 'AUC-ROC': np.float64(0.9707388010169093)}\n",
            "Threshold Z: 1.10, Metrics: {'Precision': 0.19022819683013859, 'Recall': 0.02093775082574988, 'F1': 0.037723417335750326, 'AUC-ROC': np.float64(0.9707388010169093)}\n",
            "Threshold Z: 1.20, Metrics: {'Precision': 0.18086722069589256, 'Recall': 0.015488769765114757, 'F1': 0.028533998202323115, 'AUC-ROC': np.float64(0.9707388010169093)}\n",
            "Threshold Z: 1.30, Metrics: {'Precision': 0.17698852067489187, 'Recall': 0.011749924832192208, 'F1': 0.022036864916457316, 'AUC-ROC': np.float64(0.9707388010169093)}\n",
            "Threshold Z: 1.40, Metrics: {'Precision': 0.17147829574509227, 'Recall': 0.008747231212523413, 'F1': 0.016645370121897807, 'AUC-ROC': np.float64(0.9707388010169093)}\n",
            "Threshold Z: 1.50, Metrics: {'Precision': 0.1684434374013335, 'Recall': 0.006626823161841131, 'F1': 0.012751964483750718, 'AUC-ROC': np.float64(0.9707388010169093)}\n"
          ]
        },
        {
          "output_type": "display_data",
          "data": {
            "text/plain": [
              "<Figure size 1000x600 with 1 Axes>"
            ],
            "image/png": "[encoded data removed]"
          },
          "metadata": {}
        }
      ]
    },
    {
      "cell_type": "code",
      "source": [
        "# prompt: generate linear values between 0.8 and 1.5 with distance of 0.01 and then plot scatter with x = threshold_z and y = F1\n",
        "# also print all the inner results too\n",
        "\n",
        "import pandas as pd\n",
        "import numpy as np\n",
        "from sklearn.metrics import f1_score, precision_score, recall_score, roc_auc_score\n",
        "import matplotlib.pyplot as plt\n",
        "\n",
        "# ... (Your existing code for data loading and detect_z_score_ema function)\n",
        "\n",
        "threshold_z_values = np.arange(0.4, 1.1, 0.05)\n",
        "f1_scores = []\n",
        "\n",
        "for threshold_z in threshold_z_values:\n",
        "    metrics = detect_z_score_ema(df_darpa, alpha=0.05, threshold_z=threshold_z)\n",
        "    f1_scores.append(metrics['F1'])\n",
        "    print(f\"Threshold Z: {threshold_z:.2f}, Metrics: {metrics}\")\n",
        "\n",
        "# Plotting\n",
        "plt.figure(figsize=(10, 6))\n",
        "plt.scatter(threshold_z_values, f1_scores)\n",
        "plt.xlabel(\"Threshold Z\")\n",
        "plt.ylabel(\"F1 Score\")\n",
        "plt.title(\"F1 Score vs. Threshold Z\")\n",
        "plt.grid(True)\n",
        "plt.show()\n"
      ],
      "metadata": {
        "colab": {
          "base_uri": "https://localhost:8080/",
          "height": 816
        },
        "id": "aNt0fm6g_i62",
        "outputId": "088d0cdb-0c5a-4c2c-eb2e-c6db6978d8a3"
      },
      "execution_count": 36,
      "outputs": [
        {
          "output_type": "stream",
          "name": "stdout",
          "text": [
            "Threshold Z: 0.40, Metrics: {'Precision': 0.7816943619516569, 'Recall': 0.9224008835277102, 'F1': 0.846238579710383, 'AUC-ROC': np.float64(0.9707388010169093)}\n",
            "Threshold Z: 0.45, Metrics: {'Precision': 0.7879143855349994, 'Recall': 0.9171820639198541, 'F1': 0.8476481697538936, 'AUC-ROC': np.float64(0.9707388010169093)}\n",
            "Threshold Z: 0.50, Metrics: {'Precision': 0.7943794917167079, 'Recall': 0.9105735075399796, 'F1': 0.8485171384849501, 'AUC-ROC': np.float64(0.9707388010169093)}\n",
            "Threshold Z: 0.55, Metrics: {'Precision': 0.8011834825923546, 'Recall': 0.9029219179098125, 'F1': 0.8490157081677904, 'AUC-ROC': np.float64(0.9707388010169093)}\n",
            "Threshold Z: 0.60, Metrics: {'Precision': 0.8085386753531207, 'Recall': 0.8957525713235636, 'F1': 0.8499141198716738, 'AUC-ROC': np.float64(0.9707388010169093)}\n",
            "Threshold Z: 0.65, Metrics: {'Precision': 0.8164799246926465, 'Recall': 0.8891557056841476, 'F1': 0.851269486504164, 'AUC-ROC': np.float64(0.9707388010169093)}\n",
            "Threshold Z: 0.70, Metrics: {'Precision': 0.8248414206796305, 'Recall': 0.8831517797873674, 'F1': 0.8530012514293165, 'AUC-ROC': np.float64(0.9707388010169093)}\n",
            "Threshold Z: 0.75, Metrics: {'Precision': 0.833165485601649, 'Recall': 0.8771098589840965, 'F1': 0.8545731117505925, 'AUC-ROC': np.float64(0.9707388010169093)}\n",
            "Threshold Z: 0.80, Metrics: {'Precision': 0.8415337696168753, 'Recall': 0.8709901216896481, 'F1': 0.8560086129313534, 'AUC-ROC': np.float64(0.9707388010169093)}\n",
            "Threshold Z: 0.85, Metrics: {'Precision': 0.8500531261890575, 'Recall': 0.8651495008236492, 'F1': 0.8575348780533291, 'AUC-ROC': np.float64(0.9707388010169093)}\n",
            "Threshold Z: 0.90, Metrics: {'Precision': 0.8585724624167508, 'Recall': 0.8594846064001689, 'F1': 0.8590282922725432, 'AUC-ROC': np.float64(0.9707388010169093)}\n",
            "Threshold Z: 0.95, Metrics: {'Precision': 0.8671255702291599, 'Recall': 0.8540221079208785, 'F1': 0.8605239593562002, 'AUC-ROC': np.float64(0.9707388010169093)}\n",
            "Threshold Z: 1.00, Metrics: {'Precision': 0.8757280681666848, 'Recall': 0.8480441208544909, 'F1': 0.8616637910810321, 'AUC-ROC': np.float64(0.9707388010169093)}\n",
            "Threshold Z: 1.05, Metrics: {'Precision': 0.8837718779461615, 'Recall': 0.8325506017260648, 'F1': 0.8573969256793363, 'AUC-ROC': np.float64(0.9707388010169093)}\n"
          ]
        },
        {
          "output_type": "display_data",
          "data": {
            "text/plain": [
              "<Figure size 1000x600 with 1 Axes>"
            ],
            "image/png": "[encoded data removed]"
          },
          "metadata": {}
        }
      ]
    },
    {
      "cell_type": "code",
      "source": [
        "# prompt: generate linear values between 0.8 and 1.5 with distance of 0.01 and then plot scatter with x = threshold_z and y = F1\n",
        "# also print all the inner results too\n",
        "\n",
        "import pandas as pd\n",
        "import numpy as np\n",
        "from sklearn.metrics import f1_score, precision_score, recall_score, roc_auc_score\n",
        "import matplotlib.pyplot as plt\n",
        "\n",
        "# ... (Your existing code for data loading and detect_z_score_ema function)\n",
        "\n",
        "threshold_z_values = np.arange(0.9, 1.1, 0.02)\n",
        "f1_scores = []\n",
        "\n",
        "for threshold_z in threshold_z_values:\n",
        "    metrics = detect_z_score_ema(df_darpa, alpha=0.05, threshold_z=threshold_z)\n",
        "    f1_scores.append(metrics['F1'])\n",
        "    print(f\"Threshold Z: {threshold_z:.2f}, Metrics: {metrics}\")\n",
        "\n",
        "# Plotting\n",
        "plt.figure(figsize=(10, 6))\n",
        "plt.scatter(threshold_z_values, f1_scores)\n",
        "plt.xlabel(\"Threshold Z\")\n",
        "plt.ylabel(\"F1 Score\")\n",
        "plt.title(\"F1 Score vs. Threshold Z\")\n",
        "plt.grid(True)\n",
        "plt.show()\n"
      ],
      "metadata": {
        "colab": {
          "base_uri": "https://localhost:8080/",
          "height": 762
        },
        "id": "LpjO1UcmCQfI",
        "outputId": "8a282a4a-e876-4447-d746-262bf988538f"
      },
      "execution_count": 37,
      "outputs": [
        {
          "output_type": "stream",
          "name": "stdout",
          "text": [
            "Threshold Z: 0.90, Metrics: {'Precision': 0.8585724624167508, 'Recall': 0.8594846064001689, 'F1': 0.8590282922725432, 'AUC-ROC': np.float64(0.9707388010169093)}\n",
            "Threshold Z: 0.92, Metrics: {'Precision': 0.861968578033714, 'Recall': 0.857353603615946, 'F1': 0.8596548971081712, 'AUC-ROC': np.float64(0.9707388010169093)}\n",
            "Threshold Z: 0.94, Metrics: {'Precision': 0.8654392705140199, 'Recall': 0.8550563731158272, 'F1': 0.8602164923085744, 'AUC-ROC': np.float64(0.9707388010169093)}\n",
            "Threshold Z: 0.96, Metrics: {'Precision': 0.8688614272965383, 'Recall': 0.8529447331204888, 'F1': 0.8608295117780718, 'AUC-ROC': np.float64(0.9707388010169093)}\n",
            "Threshold Z: 0.98, Metrics: {'Precision': 0.8722978630149303, 'Recall': 0.8506931695752864, 'F1': 0.8613600649869494, 'AUC-ROC': np.float64(0.9707388010169093)}\n",
            "Threshold Z: 1.00, Metrics: {'Precision': 0.8757280681666848, 'Recall': 0.8480441208544909, 'F1': 0.8616637910810321, 'AUC-ROC': np.float64(0.9707388010169093)}\n",
            "Threshold Z: 1.02, Metrics: {'Precision': 0.8791967668084553, 'Recall': 0.8447517160728318, 'F1': 0.8616301297888277, 'AUC-ROC': np.float64(0.9707388010169093)}\n",
            "Threshold Z: 1.04, Metrics: {'Precision': 0.8824637725677512, 'Recall': 0.8396403051429394, 'F1': 0.8605195944502656, 'AUC-ROC': np.float64(0.9707388010169093)}\n",
            "Threshold Z: 1.06, Metrics: {'Precision': 0.20247936341794134, 'Recall': 0.024876799689026303, 'F1': 0.04430967250744671, 'AUC-ROC': np.float64(0.9707388010169093)}\n",
            "Threshold Z: 1.08, Metrics: {'Precision': 0.19358736147432642, 'Recall': 0.02241955217888002, 'F1': 0.040185213318804744, 'AUC-ROC': np.float64(0.9707388010169093)}\n",
            "Threshold Z: 1.10, Metrics: {'Precision': 0.19022819683013859, 'Recall': 0.02093775082574988, 'F1': 0.037723417335750326, 'AUC-ROC': np.float64(0.9707388010169093)}\n"
          ]
        },
        {
          "output_type": "display_data",
          "data": {
            "text/plain": [
              "<Figure size 1000x600 with 1 Axes>"
            ],
            "image/png": "[encoded data removed]"
          },
          "metadata": {}
        }
      ]
    },
    {
      "cell_type": "markdown",
      "source": [
        "### ISCX Dataset"
      ],
      "metadata": {
        "id": "TL0XLfwADz22"
      }
    },
    {
      "cell_type": "markdown",
      "source": [
        "After testing on darpa dataset and defining that is it very good to have z = 1 and alpha = 0.05\n",
        "So try on ISCX\n",
        "\n",
        "and see if it is good"
      ],
      "metadata": {
        "id": "w9BePm8YD25W"
      }
    },
    {
      "cell_type": "code",
      "source": [
        "import pandas as pd\n",
        "import numpy as np\n",
        "from sklearn.metrics import f1_score, precision_score, recall_score, roc_auc_score\n",
        "import matplotlib.pyplot as plt\n",
        "\n",
        "threshold_z_values = np.arange(0.1, 1.3, 0.1)\n",
        "f1_scores = []\n",
        "\n",
        "for threshold_z in threshold_z_values:\n",
        "    metrics = detect_z_score_ema(df_iscx, alpha=0.05, threshold_z=threshold_z)\n",
        "    f1_scores.append(metrics['F1'])\n",
        "    print(f\"Threshold Z: {threshold_z:.2f}, Metrics: {metrics}\")\n",
        "\n",
        "# Plotting\n",
        "plt.figure(figsize=(10, 6))\n",
        "plt.scatter(threshold_z_values, f1_scores)\n",
        "plt.xlabel(\"Threshold Z\")\n",
        "plt.ylabel(\"F1 Score\")\n",
        "plt.title(\"F1 Score vs. Threshold Z\")\n",
        "plt.grid(True)\n",
        "plt.show()\n"
      ],
      "metadata": {
        "colab": {
          "base_uri": "https://localhost:8080/",
          "height": 780
        },
        "id": "zm8lCvqLEFZ1",
        "outputId": "827ee76f-affe-4096-ce49-59739b670a75"
      },
      "execution_count": 39,
      "outputs": [
        {
          "output_type": "stream",
          "name": "stdout",
          "text": [
            "Threshold Z: 0.10, Metrics: {'Precision': 0.091809225853691, 'Recall': 0.9500602720854141, 'F1': 0.1674380491357987, 'AUC-ROC': np.float64(0.9539573500334358)}\n",
            "Threshold Z: 0.20, Metrics: {'Precision': 0.09435023284421404, 'Recall': 0.9245737902531428, 'F1': 0.17122719734660033, 'AUC-ROC': np.float64(0.9539573500334358)}\n",
            "Threshold Z: 0.30, Metrics: {'Precision': 0.09550215363278641, 'Recall': 0.8834380919579817, 'F1': 0.17237056247965643, 'AUC-ROC': np.float64(0.9539573500334358)}\n",
            "Threshold Z: 0.40, Metrics: {'Precision': 0.09454743594506569, 'Recall': 0.8217237816428449, 'F1': 0.1695827067752676, 'AUC-ROC': np.float64(0.9539573500334358)}\n",
            "Threshold Z: 0.50, Metrics: {'Precision': 0.09114205358044776, 'Recall': 0.7380316858963321, 'F1': 0.16224759723451276, 'AUC-ROC': np.float64(0.9539573500334358)}\n",
            "Threshold Z: 0.60, Metrics: {'Precision': 0.08463670731426201, 'Recall': 0.6322757017392802, 'F1': 0.14928946084410832, 'AUC-ROC': np.float64(0.9539573500334358)}\n",
            "Threshold Z: 0.70, Metrics: {'Precision': 0.07493409365339268, 'Recall': 0.5102893060099879, 'F1': 0.1306785294944517, 'AUC-ROC': np.float64(0.9539573500334358)}\n",
            "Threshold Z: 0.80, Metrics: {'Precision': 0.061684368660100665, 'Recall': 0.3782934389529878, 'F1': 0.10607258614549822, 'AUC-ROC': np.float64(0.9539573500334358)}\n",
            "Threshold Z: 0.90, Metrics: {'Precision': 0.04754336965500964, 'Recall': 0.26016015154124333, 'F1': 0.08039485675134535, 'AUC-ROC': np.float64(0.9539573500334358)}\n",
            "Threshold Z: 1.00, Metrics: {'Precision': 0.035913417146104125, 'Recall': 0.17414327535732738, 'F1': 0.059546592080082436, 'AUC-ROC': np.float64(0.9539573500334358)}\n",
            "Threshold Z: 1.10, Metrics: {'Precision': 0.018038541591160907, 'Recall': 0.07499569485104185, 'F1': 0.0290820457599813, 'AUC-ROC': np.float64(0.9539573500334358)}\n",
            "Threshold Z: 1.20, Metrics: {'Precision': 0.011822777282188522, 'Recall': 0.042793180644050285, 'F1': 0.018526975014678062, 'AUC-ROC': np.float64(0.9539573500334358)}\n"
          ]
        },
        {
          "output_type": "display_data",
          "data": {
            "text/plain": [
              "<Figure size 1000x600 with 1 Axes>"
            ],
            "image/png": "[encoded data removed]"
          },
          "metadata": {}
        }
      ]
    },
    {
      "cell_type": "markdown",
      "source": [
        "Now try to log or power the scores to see if changes or no"
      ],
      "metadata": {
        "id": "KBqfD6TvM1ci"
      }
    },
    {
      "cell_type": "code",
      "source": [
        "def detect_z_score_ema_log2(df, alpha=0.05, threshold_z=3):\n",
        "    scores = np.log2(df['score'])\n",
        "    labels = df['label'].values\n",
        "    mu, var = 0, 1\n",
        "    preds = []\n",
        "\n",
        "    for x in scores:\n",
        "        z = (x - mu) / (np.sqrt(var) + 1e-6)\n",
        "        preds.append(int(z > threshold_z))\n",
        "        mu = alpha * x + (1 - alpha) * mu\n",
        "        var = alpha * (x - mu) ** 2 + (1 - alpha) * var\n",
        "\n",
        "    metrics = {\n",
        "        'Precision': precision_score(labels, preds),\n",
        "        'Recall': recall_score(labels, preds),\n",
        "        'F1': f1_score(labels, preds),\n",
        "        'AUC-ROC': roc_auc_score(labels, scores)\n",
        "    }\n",
        "    return metrics\n"
      ],
      "metadata": {
        "id": "tlatq_UBEgPu"
      },
      "execution_count": 54,
      "outputs": []
    },
    {
      "cell_type": "code",
      "source": [
        "import pandas as pd\n",
        "import numpy as np\n",
        "from sklearn.metrics import f1_score, precision_score, recall_score, roc_auc_score\n",
        "import matplotlib.pyplot as plt\n",
        "\n",
        "threshold_z_values = np.arange(0.1, 1.3, 0.1)\n",
        "f1_scores = []\n",
        "\n",
        "for threshold_z in threshold_z_values:\n",
        "    metrics = detect_z_score_ema_log2(df_iscx, alpha=0.05, threshold_z=threshold_z)\n",
        "    f1_scores.append(metrics['F1'])\n",
        "    print(f\"Threshold Z: {threshold_z:.2f}, Metrics: {metrics}\")\n",
        "\n",
        "# Plotting\n",
        "plt.figure(figsize=(10, 6))\n",
        "plt.scatter(threshold_z_values, f1_scores)\n",
        "plt.xlabel(\"Threshold Z\")\n",
        "plt.ylabel(\"F1 Score\")\n",
        "plt.title(\"F1 Score vs. Threshold Z\")\n",
        "plt.grid(True)\n",
        "plt.show()\n"
      ],
      "metadata": {
        "colab": {
          "base_uri": "https://localhost:8080/",
          "height": 780
        },
        "id": "HSfmtckHNLJA",
        "outputId": "ef9ec2b9-d0ee-49ae-d166-82eb9e5ee391"
      },
      "execution_count": 55,
      "outputs": [
        {
          "output_type": "stream",
          "name": "stdout",
          "text": [
            "Threshold Z: 0.10, Metrics: {'Precision': 0.08593987128998175, 'Recall': 0.962975718959876, 'F1': 0.15779727198653984, 'AUC-ROC': np.float64(0.9539573500334358)}\n",
            "Threshold Z: 0.20, Metrics: {'Precision': 0.08880314363209604, 'Recall': 0.9422679524711555, 'F1': 0.16230957620566974, 'AUC-ROC': np.float64(0.9539573500334358)}\n",
            "Threshold Z: 0.30, Metrics: {'Precision': 0.09051669389960625, 'Recall': 0.9050714654727053, 'F1': 0.16457422886409495, 'AUC-ROC': np.float64(0.9539573500334358)}\n",
            "Threshold Z: 0.40, Metrics: {'Precision': 0.08985119260179103, 'Recall': 0.8395040468400207, 'F1': 0.16232854047911893, 'AUC-ROC': np.float64(0.9539573500334358)}\n",
            "Threshold Z: 0.50, Metrics: {'Precision': 0.08600905411003688, 'Recall': 0.741863268469089, 'F1': 0.15414685636844247, 'AUC-ROC': np.float64(0.9539573500334358)}\n",
            "Threshold Z: 0.60, Metrics: {'Precision': 0.07750745712155108, 'Recall': 0.6085543309798519, 'F1': 0.1375021886733721, 'AUC-ROC': np.float64(0.9539573500334358)}\n",
            "Threshold Z: 0.70, Metrics: {'Precision': 0.06405746250149259, 'Recall': 0.45036163251248496, 'F1': 0.11216155724544254, 'AUC-ROC': np.float64(0.9539573500334358)}\n",
            "Threshold Z: 0.80, Metrics: {'Precision': 0.047871970875944865, 'Recall': 0.29664628896159806, 'F1': 0.08243999904285612, 'AUC-ROC': np.float64(0.9539573500334358)}\n",
            "Threshold Z: 0.90, Metrics: {'Precision': 0.033202874887949804, 'Recall': 0.1785991045290167, 'F1': 0.05599573468671544, 'AUC-ROC': np.float64(0.9539573500334358)}\n",
            "Threshold Z: 1.00, Metrics: {'Precision': 0.019116597151767934, 'Recall': 0.08760978129843293, 'F1': 0.031384947563232575, 'AUC-ROC': np.float64(0.9539573500334358)}\n",
            "Threshold Z: 1.10, Metrics: {'Precision': 0.009870196346803313, 'Recall': 0.03818667125882556, 'F1': 0.01568599710861271, 'AUC-ROC': np.float64(0.9539573500334358)}\n",
            "Threshold Z: 1.20, Metrics: {'Precision': 0.006590812645873117, 'Recall': 0.021396590322025143, 'F1': 0.010077456506752099, 'AUC-ROC': np.float64(0.9539573500334358)}\n"
          ]
        },
        {
          "output_type": "display_data",
          "data": {
            "text/plain": [
              "<Figure size 1000x600 with 1 Axes>"
            ],
            "image/png": "[encoded data removed]"
          },
          "metadata": {}
        }
      ]
    },
    {
      "cell_type": "code",
      "source": [
        "def detect_z_score_ema_exp(df, alpha=0.05, threshold_z=3):\n",
        "    scores = np.exp(df['score'])\n",
        "    labels = df['label'].values\n",
        "    mu, var = 0, 1\n",
        "    preds = []\n",
        "\n",
        "    for x in scores:\n",
        "        z = (x - mu) / (np.sqrt(var) + 1e-6)\n",
        "        preds.append(int(z > threshold_z))\n",
        "        mu = alpha * x + (1 - alpha) * mu\n",
        "        var = alpha * (x - mu) ** 2 + (1 - alpha) * var\n",
        "\n",
        "    metrics = {\n",
        "        'Precision': precision_score(labels, preds),\n",
        "        'Recall': recall_score(labels, preds),\n",
        "        'F1': f1_score(labels, preds),\n",
        "        'AUC-ROC': roc_auc_score(labels, scores)\n",
        "    }\n",
        "    return metrics\n"
      ],
      "metadata": {
        "id": "3qm4gpGtOLOD"
      },
      "execution_count": 56,
      "outputs": []
    },
    {
      "cell_type": "code",
      "source": [
        "import pandas as pd\n",
        "import numpy as np\n",
        "from sklearn.metrics import f1_score, precision_score, recall_score, roc_auc_score\n",
        "import matplotlib.pyplot as plt\n",
        "\n",
        "threshold_z_values = np.arange(0.1, 1.3, 0.1)\n",
        "f1_scores = []\n",
        "\n",
        "for threshold_z in threshold_z_values:\n",
        "    metrics = detect_z_score_ema_exp(df_iscx, alpha=0.05, threshold_z=threshold_z)\n",
        "    f1_scores.append(metrics['F1'])\n",
        "    print(f\"Threshold Z: {threshold_z:.2f}, Metrics: {metrics}\")\n",
        "\n",
        "# Plotting\n",
        "plt.figure(figsize=(10, 6))\n",
        "plt.scatter(threshold_z_values, f1_scores)\n",
        "plt.xlabel(\"Threshold Z\")\n",
        "plt.ylabel(\"F1 Score\")\n",
        "plt.title(\"F1 Score vs. Threshold Z\")\n",
        "plt.grid(True)\n",
        "plt.show()\n"
      ],
      "metadata": {
        "colab": {
          "base_uri": "https://localhost:8080/",
          "height": 343
        },
        "id": "MSHcVzMvON7e",
        "outputId": "2491b6c4-272d-437b-c536-42eac4fdb625"
      },
      "execution_count": 58,
      "outputs": [
        {
          "output_type": "error",
          "ename": "OverflowError",
          "evalue": "(34, 'Numerical result out of range')",
          "traceback": [
            "\u001b[0;31m---------------------------------------------------------------------------\u001b[0m",
            "\u001b[0;31mOverflowError\u001b[0m                             Traceback (most recent call last)",
            "\u001b[0;32m<ipython-input-58-2c47944d4b7f>\u001b[0m in \u001b[0;36m<cell line: 0>\u001b[0;34m()\u001b[0m\n\u001b[1;32m      8\u001b[0m \u001b[0;34m\u001b[0m\u001b[0m\n\u001b[1;32m      9\u001b[0m \u001b[0;32mfor\u001b[0m \u001b[0mthreshold_z\u001b[0m \u001b[0;32min\u001b[0m \u001b[0mthreshold_z_values\u001b[0m\u001b[0;34m:\u001b[0m\u001b[0;34m\u001b[0m\u001b[0;34m\u001b[0m\u001b[0m\n\u001b[0;32m---> 10\u001b[0;31m     \u001b[0mmetrics\u001b[0m \u001b[0;34m=\u001b[0m \u001b[0mdetect_z_score_ema_exp\u001b[0m\u001b[0;34m(\u001b[0m\u001b[0mdf_iscx\u001b[0m\u001b[0;34m,\u001b[0m \u001b[0malpha\u001b[0m\u001b[0;34m=\u001b[0m\u001b[0;36m0.05\u001b[0m\u001b[0;34m,\u001b[0m \u001b[0mthreshold_z\u001b[0m\u001b[0;34m=\u001b[0m\u001b[0mthreshold_z\u001b[0m\u001b[0;34m)\u001b[0m\u001b[0;34m\u001b[0m\u001b[0;34m\u001b[0m\u001b[0m\n\u001b[0m\u001b[1;32m     11\u001b[0m     \u001b[0mf1_scores\u001b[0m\u001b[0;34m.\u001b[0m\u001b[0mappend\u001b[0m\u001b[0;34m(\u001b[0m\u001b[0mmetrics\u001b[0m\u001b[0;34m[\u001b[0m\u001b[0;34m'F1'\u001b[0m\u001b[0;34m]\u001b[0m\u001b[0;34m)\u001b[0m\u001b[0;34m\u001b[0m\u001b[0;34m\u001b[0m\u001b[0m\n\u001b[1;32m     12\u001b[0m     \u001b[0mprint\u001b[0m\u001b[0;34m(\u001b[0m\u001b[0;34mf\"Threshold Z: {threshold_z:.2f}, Metrics: {metrics}\"\u001b[0m\u001b[0;34m)\u001b[0m\u001b[0;34m\u001b[0m\u001b[0;34m\u001b[0m\u001b[0m\n",
            "\u001b[0;32m<ipython-input-56-525b650be492>\u001b[0m in \u001b[0;36mdetect_z_score_ema_exp\u001b[0;34m(df, alpha, threshold_z)\u001b[0m\n\u001b[1;32m      9\u001b[0m         \u001b[0mpreds\u001b[0m\u001b[0;34m.\u001b[0m\u001b[0mappend\u001b[0m\u001b[0;34m(\u001b[0m\u001b[0mint\u001b[0m\u001b[0;34m(\u001b[0m\u001b[0mz\u001b[0m \u001b[0;34m>\u001b[0m \u001b[0mthreshold_z\u001b[0m\u001b[0;34m)\u001b[0m\u001b[0;34m)\u001b[0m\u001b[0;34m\u001b[0m\u001b[0;34m\u001b[0m\u001b[0m\n\u001b[1;32m     10\u001b[0m         \u001b[0mmu\u001b[0m \u001b[0;34m=\u001b[0m \u001b[0malpha\u001b[0m \u001b[0;34m*\u001b[0m \u001b[0mx\u001b[0m \u001b[0;34m+\u001b[0m \u001b[0;34m(\u001b[0m\u001b[0;36m1\u001b[0m \u001b[0;34m-\u001b[0m \u001b[0malpha\u001b[0m\u001b[0;34m)\u001b[0m \u001b[0;34m*\u001b[0m \u001b[0mmu\u001b[0m\u001b[0;34m\u001b[0m\u001b[0;34m\u001b[0m\u001b[0m\n\u001b[0;32m---> 11\u001b[0;31m         \u001b[0mvar\u001b[0m \u001b[0;34m=\u001b[0m \u001b[0malpha\u001b[0m \u001b[0;34m*\u001b[0m \u001b[0;34m(\u001b[0m\u001b[0mx\u001b[0m \u001b[0;34m-\u001b[0m \u001b[0mmu\u001b[0m\u001b[0;34m)\u001b[0m \u001b[0;34m**\u001b[0m \u001b[0;36m2\u001b[0m \u001b[0;34m+\u001b[0m \u001b[0;34m(\u001b[0m\u001b[0;36m1\u001b[0m \u001b[0;34m-\u001b[0m \u001b[0malpha\u001b[0m\u001b[0;34m)\u001b[0m \u001b[0;34m*\u001b[0m \u001b[0mvar\u001b[0m\u001b[0;34m\u001b[0m\u001b[0;34m\u001b[0m\u001b[0m\n\u001b[0m\u001b[1;32m     12\u001b[0m \u001b[0;34m\u001b[0m\u001b[0m\n\u001b[1;32m     13\u001b[0m     metrics = {\n",
            "\u001b[0;31mOverflowError\u001b[0m: (34, 'Numerical result out of range')"
          ]
        }
      ]
    }
  ]
}